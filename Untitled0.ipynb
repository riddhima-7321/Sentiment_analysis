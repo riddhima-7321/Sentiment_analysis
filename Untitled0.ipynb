{
  "cells": [
    {
      "cell_type": "code",
      "execution_count": null,
      "metadata": {
        "id": "nfRBrtdxGL0k"
      },
      "outputs": [],
      "source": [
        "# from google.colab import drive"
      ]
    },
    {
      "cell_type": "code",
      "execution_count": null,
      "metadata": {
        "colab": {
          "base_uri": "https://localhost:8080/"
        },
        "id": "sCcMYnH1HJQW",
        "outputId": "4f7c7bfe-d557-43eb-d3af-ce8b645993d6"
      },
      "outputs": [
        {
          "name": "stdout",
          "output_type": "stream",
          "text": [
            "Mounted at /content/drive/\n"
          ]
        }
      ],
      "source": [
        "# drive.mount('/content/drive/')"
      ]
    },
    {
      "cell_type": "code",
      "execution_count": null,
      "metadata": {
        "id": "H4IHiwUGIQTn"
      },
      "outputs": [],
      "source": [
        "# root_path=('/content/drive/MyDrive/Csv for sentiment analysis/')"
      ]
    },
    {
      "cell_type": "code",
      "execution_count": 1,
      "metadata": {
        "colab": {
          "base_uri": "https://localhost:8080/"
        },
        "id": "Tp-K8IRFI2Qz",
        "outputId": "72f947ab-5943-4743-fa97-c99b66e077a4"
      },
      "outputs": [
        {
          "name": "stderr",
          "output_type": "stream",
          "text": [
            "[nltk_data] Downloading package stopwords to\n",
            "[nltk_data]     C:\\Users\\Riddhima\\AppData\\Roaming\\nltk_data...\n",
            "[nltk_data]   Package stopwords is already up-to-date!\n",
            "[nltk_data] Downloading package punkt to\n",
            "[nltk_data]     C:\\Users\\Riddhima\\AppData\\Roaming\\nltk_data...\n",
            "[nltk_data]   Package punkt is already up-to-date!\n"
          ]
        }
      ],
      "source": [
        "import pandas as pd\n",
        "import numpy as np\n",
        "import string\n",
        "from nltk.corpus import stopwords\n",
        "from nltk.tokenize import word_tokenize\n",
        "import nltk\n",
        "from nltk.stem import PorterStemmer\n",
        "nltk.download('stopwords')\n",
        "nltk.download('punkt')\n",
        "import gensim\n",
        "from gensim.models import Word2Vec\n",
        "from tensorflow.keras.models import Sequential\n",
        "# from tensorflow.keras.layers import Embedding, LSTM, Dense, Bidirectional\n",
        "from tensorflow.keras.preprocessing.sequence import pad_sequences\n",
        "from sklearn.model_selection import train_test_split\n",
        "from keras.models import Sequential\n",
        "from keras.layers import Embedding, SimpleRNN, Dense,GlobalMaxPooling1D,Flatten\n",
        "from keras.initializers import Orthogonal"
      ]
    },
    {
      "cell_type": "code",
      "execution_count": 2,
      "metadata": {
        "id": "BGyxgyOpI6Np"
      },
      "outputs": [],
      "source": [
        "data=pd.read_csv('hotels.csv')"
      ]
    },
    {
      "cell_type": "code",
      "execution_count": 3,
      "metadata": {
        "id": "fvXw2RkHJdIZ"
      },
      "outputs": [],
      "source": [
        "data = data.drop(data.index[-1500:])"
      ]
    },
    {
      "cell_type": "code",
      "execution_count": 4,
      "metadata": {
        "id": "sggpvMP6Jlh3"
      },
      "outputs": [],
      "source": [
        "c_drop=['address','categories','city','country','latitude','longitude','name','postalCode','province','reviews.date','reviews.dateAdded','reviews.doRecommend','reviews.id','reviews.userCity','reviews.username','reviews.userProvince']\n",
        "data.drop(columns=c_drop, inplace=True)\n",
        "del c_drop"
      ]
    },
    {
      "cell_type": "code",
      "execution_count": 5,
      "metadata": {
        "colab": {
          "base_uri": "https://localhost:8080/"
        },
        "id": "QDwS-9bWJtNk",
        "outputId": "126ecab5-46b1-4cac-9af4-cffadb05aac1"
      },
      "outputs": [
        {
          "name": "stdout",
          "output_type": "stream",
          "text": [
            "<class 'pandas.core.frame.DataFrame'>\n",
            "RangeIndex: 34412 entries, 0 to 34411\n",
            "Data columns (total 3 columns):\n",
            " #   Column          Non-Null Count  Dtype  \n",
            "---  ------          --------------  -----  \n",
            " 0   reviews.rating  33564 non-null  float64\n",
            " 1   reviews.text    34388 non-null  object \n",
            " 2   reviews.title   32828 non-null  object \n",
            "dtypes: float64(1), object(2)\n",
            "memory usage: 806.7+ KB\n"
          ]
        }
      ],
      "source": [
        "data.info()"
      ]
    },
    {
      "cell_type": "code",
      "execution_count": 6,
      "metadata": {
        "colab": {
          "base_uri": "https://localhost:8080/"
        },
        "id": "mGvSJ8rlJyFK",
        "outputId": "969fcc05-6bac-49cf-f472-202ad3406318"
      },
      "outputs": [
        {
          "data": {
            "text/plain": [
              "reviews.rating     848\n",
              "reviews.text        24\n",
              "reviews.title     1584\n",
              "dtype: int64"
            ]
          },
          "execution_count": 6,
          "metadata": {},
          "output_type": "execute_result"
        }
      ],
      "source": [
        "data.isnull().sum()"
      ]
    },
    {
      "cell_type": "code",
      "execution_count": 7,
      "metadata": {
        "id": "yY3F4_N7J0iV"
      },
      "outputs": [],
      "source": [
        "data=data.dropna()"
      ]
    },
    {
      "cell_type": "code",
      "execution_count": 8,
      "metadata": {
        "id": "d6RcaiPsJ4Mk"
      },
      "outputs": [],
      "source": [
        "data.rename(columns={'reviews.rating': 'rating'}, inplace=True)\n",
        "data.rename(columns={'reviews.text': 'text'}, inplace=True)\n",
        "data.rename(columns={'reviews.title': 'title'}, inplace=True)"
      ]
    },
    {
      "cell_type": "code",
      "execution_count": 9,
      "metadata": {
        "colab": {
          "base_uri": "https://localhost:8080/"
        },
        "id": "jakfK68jJ63G",
        "outputId": "e618b648-62c8-45e1-997e-f95a7365fcd4"
      },
      "outputs": [
        {
          "data": {
            "text/plain": [
              "array([ 4. ,  5. ,  3. ,  1. ,  2. ,  0. ,  4.1,  3.1,  3.2,  3.3,  9.6,\n",
              "       10. ,  8.3,  8.8,  9.2,  7.5,  7.9,  7.1,  3.8,  5.8,  6.7,  6.3,\n",
              "        4.2,  4.3,  4.8,  3.9,  2.8,  4.5,  4.4,  4.7,  1.5,  4.9,  4.6,\n",
              "        3.7,  3.4,  5.4,  2.5,  6. ,  2.9,  7. ,  9.5])"
            ]
          },
          "execution_count": 9,
          "metadata": {},
          "output_type": "execute_result"
        }
      ],
      "source": [
        "data['rating'].unique()"
      ]
    },
    {
      "cell_type": "markdown",
      "metadata": {
        "id": "BN7QGal9NELV"
      },
      "source": [
        "Converting 0-3 rating as negative\n",
        "           4-5 as neutral\n",
        "           6-10 as positive"
      ]
    },
    {
      "cell_type": "code",
      "execution_count": 10,
      "metadata": {
        "id": "VC8ETvhBM_2Q"
      },
      "outputs": [],
      "source": [
        "data['rating'] = pd.cut(data['rating'], bins=[0, 3, 5, 10], labels=[0, 1, 2], include_lowest=True)"
      ]
    },
    {
      "cell_type": "code",
      "execution_count": 11,
      "metadata": {
        "id": "CEPaDuJpJ-KX"
      },
      "outputs": [],
      "source": [
        "data['Text']=data['text'] + ' ' + data['title']"
      ]
    },
    {
      "cell_type": "code",
      "execution_count": 12,
      "metadata": {
        "id": "G18AqS_SKFYx"
      },
      "outputs": [],
      "source": [
        "data.drop(columns= ['title','text'], inplace=True)"
      ]
    },
    {
      "cell_type": "code",
      "execution_count": 13,
      "metadata": {
        "id": "GX7WQCBKKLGg"
      },
      "outputs": [],
      "source": [
        "data['Text']=data['Text'].str.lower()"
      ]
    },
    {
      "cell_type": "code",
      "execution_count": 14,
      "metadata": {
        "id": "hedO8ThHKOiQ"
      },
      "outputs": [],
      "source": [
        "exclude=string.punctuation\n",
        "def remove_punc(text):\n",
        "    return text.translate(str.maketrans('','',exclude))\n",
        "data['Text']=data['Text'].apply(remove_punc)"
      ]
    },
    {
      "cell_type": "code",
      "execution_count": 15,
      "metadata": {
        "id": "-fzkABbFKSw0"
      },
      "outputs": [],
      "source": [
        "def rem_stopwords(text):\n",
        "    stop_words = set(stopwords.words('english') + stopwords.words('swedish') + stopwords.words('german'))\n",
        "    words = word_tokenize(text)\n",
        "    filtered_words = [word for word in words if word.lower() not in stop_words]\n",
        "    return \" \".join(filtered_words)\n",
        "data['Text'] = data['Text'].apply(rem_stopwords)"
      ]
    },
    {
      "cell_type": "code",
      "execution_count": 16,
      "metadata": {
        "id": "yoX0WnupwhkJ"
      },
      "outputs": [],
      "source": [
        "data['Text'] = data['Text'].apply(lambda text: [PorterStemmer().stem(word) for word in word_tokenize(text)])\n"
      ]
    },
    {
      "cell_type": "code",
      "execution_count": 17,
      "metadata": {
        "id": "l2Aa0QyvKd2p"
      },
      "outputs": [],
      "source": [
        "# data.head()"
      ]
    },
    {
      "cell_type": "code",
      "execution_count": 18,
      "metadata": {
        "id": "5goe5yKjPbj9"
      },
      "outputs": [],
      "source": [
        "model = Word2Vec(sentences=data['Text'],vector_size=100, window=5, min_count=2, workers=4,alpha=0.001)"
      ]
    },
    {
      "cell_type": "code",
      "execution_count": 19,
      "metadata": {
        "id": "sRqPjeXbtSyw"
      },
      "outputs": [],
      "source": [
        "model.save(\"word2vec.model\")"
      ]
    },
    {
      "cell_type": "code",
      "execution_count": 20,
      "metadata": {
        "colab": {
          "base_uri": "https://localhost:8080/"
        },
        "id": "a8atM4AdM2oO",
        "outputId": "32ab0185-c236-427f-91d4-65d150a70fe6"
      },
      "outputs": [
        {
          "data": {
            "text/plain": [
              "(3717415, 4474720)"
            ]
          },
          "execution_count": 20,
          "metadata": {},
          "output_type": "execute_result"
        }
      ],
      "source": [
        "model.train(data['Text'], total_examples=len(data['Text']), epochs=model.epochs)"
      ]
    },
    {
      "cell_type": "code",
      "execution_count": 21,
      "metadata": {
        "id": "LVQfgjHF395B"
      },
      "outputs": [],
      "source": [
        "word_vectors = model.wv"
      ]
    },
    {
      "cell_type": "code",
      "execution_count": 22,
      "metadata": {
        "id": "HCVOq3aFDXyn"
      },
      "outputs": [],
      "source": [
        "def text_to_vectors(text, model):\n",
        "    vectors = [model.wv[word] for word in text if word in model.wv]\n",
        "    return np.array(vectors)\n",
        "data['Text'] = data['Text'].apply(lambda text: text_to_vectors(text, model))"
      ]
    },
    {
      "cell_type": "code",
      "execution_count": 23,
      "metadata": {
        "id": "e9lXx7rq7eaJ"
      },
      "outputs": [],
      "source": [
        "X_sequences = pad_sequences(data['Text'],padding='post',maxlen=100)\n",
        "y = data['rating']"
      ]
    },
    {
      "cell_type": "code",
      "execution_count": 24,
      "metadata": {
        "id": "LB7A59W70mp8"
      },
      "outputs": [],
      "source": [
        "X_train, X_test, y_train, y_test = train_test_split(X_sequences, y, test_size=0.2, random_state=42)"
      ]
    },
    {
      "cell_type": "code",
      "execution_count": 25,
      "metadata": {
        "id": "geDHYm4al2Dm"
      },
      "outputs": [],
      "source": [
        "X_train = X_train.astype(np.float32)\n",
        "X_test = X_test.astype(np.float32)"
      ]
    },
    {
      "cell_type": "code",
      "execution_count": 26,
      "metadata": {
        "id": "w6fLTzmz391a"
      },
      "outputs": [],
      "source": [
        "model = Sequential()\n",
        "model.add(SimpleRNN(units=64, activation='relu', kernel_initializer='glorot_uniform'))\n",
        "model.add(Dense(units=3, activation='softmax'))"
      ]
    },
    {
      "cell_type": "code",
      "execution_count": 27,
      "metadata": {
        "id": "IOZ5OFMPEgJr"
      },
      "outputs": [],
      "source": [
        "model.compile(optimizer='adam', loss='sparse_categorical_crossentropy', metrics=['accuracy'])"
      ]
    },
    {
      "cell_type": "code",
      "execution_count": 28,
      "metadata": {
        "colab": {
          "base_uri": "https://localhost:8080/"
        },
        "id": "9zca5hv04MZG",
        "outputId": "9fda45fa-ed7c-4641-d41c-583b9e35eef7"
      },
      "outputs": [
        {
          "name": "stdout",
          "output_type": "stream",
          "text": [
            "Epoch 1/10\n",
            "\u001b[1m818/818\u001b[0m \u001b[32m━━━━━━━━━━━━━━━━━━━━\u001b[0m\u001b[37m\u001b[0m \u001b[1m14s\u001b[0m 13ms/step - accuracy: 0.6498 - loss: 0.7647 - val_accuracy: 0.6472 - val_loss: 0.7030\n",
            "Epoch 2/10\n",
            "\u001b[1m818/818\u001b[0m \u001b[32m━━━━━━━━━━━━━━━━━━━━\u001b[0m\u001b[37m\u001b[0m \u001b[1m10s\u001b[0m 12ms/step - accuracy: 0.6471 - loss: 0.7007 - val_accuracy: 0.6454 - val_loss: 0.7060\n",
            "Epoch 3/10\n",
            "\u001b[1m818/818\u001b[0m \u001b[32m━━━━━━━━━━━━━━━━━━━━\u001b[0m\u001b[37m\u001b[0m \u001b[1m12s\u001b[0m 15ms/step - accuracy: 0.6490 - loss: 0.6986 - val_accuracy: 0.6454 - val_loss: 0.7061\n",
            "Epoch 4/10\n",
            "\u001b[1m818/818\u001b[0m \u001b[32m━━━━━━━━━━━━━━━━━━━━\u001b[0m\u001b[37m\u001b[0m \u001b[1m10s\u001b[0m 12ms/step - accuracy: 0.6501 - loss: 0.6955 - val_accuracy: 0.6484 - val_loss: 0.7008\n",
            "Epoch 5/10\n",
            "\u001b[1m818/818\u001b[0m \u001b[32m━━━━━━━━━━━━━━━━━━━━\u001b[0m\u001b[37m\u001b[0m \u001b[1m10s\u001b[0m 13ms/step - accuracy: 0.6468 - loss: 0.7021 - val_accuracy: 0.6487 - val_loss: 0.7043\n",
            "Epoch 6/10\n",
            "\u001b[1m818/818\u001b[0m \u001b[32m━━━━━━━━━━━━━━━━━━━━\u001b[0m\u001b[37m\u001b[0m \u001b[1m10s\u001b[0m 12ms/step - accuracy: 0.6504 - loss: 0.6949 - val_accuracy: 0.6458 - val_loss: 0.7014\n",
            "Epoch 7/10\n",
            "\u001b[1m818/818\u001b[0m \u001b[32m━━━━━━━━━━━━━━━━━━━━\u001b[0m\u001b[37m\u001b[0m \u001b[1m10s\u001b[0m 13ms/step - accuracy: 0.6471 - loss: 0.6964 - val_accuracy: 0.6452 - val_loss: 0.7013\n",
            "Epoch 8/10\n",
            "\u001b[1m818/818\u001b[0m \u001b[32m━━━━━━━━━━━━━━━━━━━━\u001b[0m\u001b[37m\u001b[0m \u001b[1m11s\u001b[0m 13ms/step - accuracy: 0.6520 - loss: 0.6956 - val_accuracy: 0.6481 - val_loss: 0.7030\n",
            "Epoch 9/10\n",
            "\u001b[1m818/818\u001b[0m \u001b[32m━━━━━━━━━━━━━━━━━━━━\u001b[0m\u001b[37m\u001b[0m \u001b[1m11s\u001b[0m 13ms/step - accuracy: 0.6530 - loss: 0.6965 - val_accuracy: 0.6472 - val_loss: 0.6999\n",
            "Epoch 10/10\n",
            "\u001b[1m818/818\u001b[0m \u001b[32m━━━━━━━━━━━━━━━━━━━━\u001b[0m\u001b[37m\u001b[0m \u001b[1m11s\u001b[0m 14ms/step - accuracy: 0.6494 - loss: 0.6949 - val_accuracy: 0.6493 - val_loss: 0.6996\n"
          ]
        },
        {
          "data": {
            "text/plain": [
              "<keras.src.callbacks.history.History at 0x22d053a11f0>"
            ]
          },
          "execution_count": 28,
          "metadata": {},
          "output_type": "execute_result"
        }
      ],
      "source": [
        "model.fit(X_train, y_train, epochs=10, batch_size=32, validation_data=(X_test, y_test))"
      ]
    },
    {
      "cell_type": "code",
      "execution_count": 29,
      "metadata": {
        "colab": {
          "base_uri": "https://localhost:8080/"
        },
        "id": "JlV9EHJ74Qz2",
        "outputId": "6da86065-7348-497f-b093-1cb93f460f91"
      },
      "outputs": [
        {
          "name": "stdout",
          "output_type": "stream",
          "text": [
            "\u001b[1m205/205\u001b[0m \u001b[32m━━━━━━━━━━━━━━━━━━━━\u001b[0m\u001b[37m\u001b[0m \u001b[1m1s\u001b[0m 5ms/step - accuracy: 0.6486 - loss: 0.7035\n",
            "Accuracy: 64.93%\n"
          ]
        }
      ],
      "source": [
        "loss, accuracy = model.evaluate(X_test, y_test)\n",
        "print(f'Accuracy: {accuracy * 100:.2f}%')"
      ]
    },
    {
      "cell_type": "code",
      "execution_count": null,
      "metadata": {
        "id": "eJPnCiWW3uCz"
      },
      "outputs": [],
      "source": [
        "# from joblib import dump, load\n",
        "# dump(model, 'dlmodel.joblib')\n",
        "model.save('dlmodel.keras')"
      ]
    }
  ],
  "metadata": {
    "colab": {
      "provenance": []
    },
    "kernelspec": {
      "display_name": "Python 3",
      "name": "python3"
    },
    "language_info": {
      "codemirror_mode": {
        "name": "ipython",
        "version": 3
      },
      "file_extension": ".py",
      "mimetype": "text/x-python",
      "name": "python",
      "nbconvert_exporter": "python",
      "pygments_lexer": "ipython3",
      "version": "3.12.2"
    }
  },
  "nbformat": 4,
  "nbformat_minor": 0
}
